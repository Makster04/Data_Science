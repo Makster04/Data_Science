{
  "cells": [
    {
      "cell_type": "markdown",
      "metadata": {
        "id": "view-in-github",
        "colab_type": "text"
      },
      "source": [
        "<a href=\"https://colab.research.google.com/gist/bpurdy-ds/528c84f15a4e7a4158a69366dd5c3241/index.ipynb\" target=\"_parent\"><img src=\"https://colab.research.google.com/assets/colab-badge.svg\" alt=\"Open In Colab\"/></a>"
      ]
    },
    {
      "cell_type": "markdown",
      "metadata": {
        "id": "2F8eedRQZiqK"
      },
      "source": [
        "# Functions with Arguments\n",
        "\n",
        "## Introduction\n",
        "Function arguments are a powerful tool in programming.  As we'll see, arguments make our functions more flexible and reusable by explicitly allowing different inputs to be used in a function and changing the output of the function based on these inputs.\n",
        "\n",
        "When used correctly, function arguments bring clarity to what inputs a function needs to operate, as well as how a function uses these inputs.  \n",
        "\n",
        "## Objectives\n",
        "\n",
        "You will be able to:\n",
        "\n",
        "* Declare and use a function with arguments\n",
        "\n",
        "### Predictability with arguments\n",
        "\n",
        "In the previous lesson, we saw that functions were a powerful tool.  They allow us to repeat operations and apply these operations to different data.  For example, take a look at a function called `meet_traveller()`."
      ]
    },
    {
      "cell_type": "code",
      "execution_count": null,
      "metadata": {
        "id": "pPmqwe4hZiqM"
      },
      "outputs": [],
      "source": [
        "def meet_traveller():\n",
        "    welcome_message = \"Hi \" + traveller.title() + \", I'm so glad we'll be going on the trip together!\"\n",
        "    return welcome_message # return statement"
      ]
    },
    {
      "cell_type": "markdown",
      "metadata": {
        "id": "5iiyhxw9ZiqN"
      },
      "source": [
        "The `meet_traveller()` function is designed to generate nice greetings to each new employee.  Do we need anything else to run the function?  How do we know which new employee the function will greet?  Let's run the function and see what happens."
      ]
    },
    {
      "cell_type": "code",
      "execution_count": null,
      "metadata": {
        "scrolled": true,
        "id": "mRGRn1PIZiqN",
        "outputId": "f2688141-374e-4a47-d32f-67d20ea61d8c"
      },
      "outputs": [
        {
          "ename": "NameError",
          "evalue": "name 'traveller' is not defined",
          "output_type": "error",
          "traceback": [
            "\u001b[0;31m---------------------------------------------------------------------------\u001b[0m",
            "\u001b[0;31mNameError\u001b[0m                                 Traceback (most recent call last)",
            "\u001b[0;32m<ipython-input-2-f6a9d4fa9473>\u001b[0m in \u001b[0;36m<module>\u001b[0;34m()\u001b[0m\n\u001b[0;32m----> 1\u001b[0;31m \u001b[0mmeet_traveller\u001b[0m\u001b[0;34m(\u001b[0m\u001b[0;34m)\u001b[0m\u001b[0;34m\u001b[0m\u001b[0m\n\u001b[0m",
            "\u001b[0;32m<ipython-input-1-0f8a0b87e7e6>\u001b[0m in \u001b[0;36mmeet_traveller\u001b[0;34m()\u001b[0m\n\u001b[1;32m      1\u001b[0m \u001b[0;32mdef\u001b[0m \u001b[0mmeet_traveller\u001b[0m\u001b[0;34m(\u001b[0m\u001b[0;34m)\u001b[0m\u001b[0;34m:\u001b[0m\u001b[0;34m\u001b[0m\u001b[0m\n\u001b[0;32m----> 2\u001b[0;31m     \u001b[0mwelcome_message\u001b[0m \u001b[0;34m=\u001b[0m \u001b[0;34m\"Hi \"\u001b[0m \u001b[0;34m+\u001b[0m \u001b[0mtraveller\u001b[0m\u001b[0;34m.\u001b[0m\u001b[0mtitle\u001b[0m\u001b[0;34m(\u001b[0m\u001b[0;34m)\u001b[0m \u001b[0;34m+\u001b[0m \u001b[0;34m\", I'm so glad we'll be going on the trip together!\"\u001b[0m\u001b[0;34m\u001b[0m\u001b[0m\n\u001b[0m\u001b[1;32m      3\u001b[0m     \u001b[0;32mreturn\u001b[0m \u001b[0mwelcome_message\u001b[0m \u001b[0;31m# return statement\u001b[0m\u001b[0;34m\u001b[0m\u001b[0m\n",
            "\u001b[0;31mNameError\u001b[0m: name 'traveller' is not defined"
          ]
        }
      ],
      "source": [
        "meet_traveller()"
      ]
    },
    {
      "cell_type": "markdown",
      "metadata": {
        "id": "b-1Rii0CZiqO"
      },
      "source": [
        "The function requires the variable `traveller`, but it's hard to tell that before running the function.  When code requires something to work, we call that something a **dependency**. Below, our function `meet()` depends on a global variable named `traveller` being provided, otherwise it will not work and we'll get the `NameError` we see above.\n",
        "Ideally, our function's dependencies would be more explicit than in our `meet_traveller()` function.  Let's adapt this function to make its dependencies more explicit."
      ]
    },
    {
      "cell_type": "code",
      "execution_count": null,
      "metadata": {
        "id": "rnNEuf49ZiqO"
      },
      "outputs": [],
      "source": [
        "def meet(traveller):\n",
        "    welcome_message = \"Hi \" + traveller.title() + \", I'm so glad we'll be going on the trip together!\"\n",
        "    return welcome_message"
      ]
    },
    {
      "cell_type": "markdown",
      "metadata": {
        "id": "91YzBNb0ZiqO"
      },
      "source": [
        "Ok, in the code above we changed the first line of the function, the function signature, to the following:\n",
        "\n",
        "```def meet(traveller): ```"
      ]
    },
    {
      "cell_type": "markdown",
      "metadata": {
        "collapsed": true,
        "id": "SGQQ4fAzZiqO"
      },
      "source": [
        "This tells us, and Python, to not even run the code unless the proper data is provided to our function.  Let's see what this means by calling the function **without** its argument."
      ]
    },
    {
      "cell_type": "code",
      "execution_count": null,
      "metadata": {
        "id": "DY59v2xlZiqO",
        "outputId": "94d3fa5d-9e4e-44df-d951-74faf0aedddb"
      },
      "outputs": [
        {
          "ename": "TypeError",
          "evalue": "meet() missing 1 required positional argument: 'traveller'",
          "output_type": "error",
          "traceback": [
            "\u001b[0;31m---------------------------------------------------------------------------\u001b[0m",
            "\u001b[0;31mTypeError\u001b[0m                                 Traceback (most recent call last)",
            "\u001b[0;32m<ipython-input-4-c60a3be83cb4>\u001b[0m in \u001b[0;36m<module>\u001b[0;34m()\u001b[0m\n\u001b[0;32m----> 1\u001b[0;31m \u001b[0mmeet\u001b[0m\u001b[0;34m(\u001b[0m\u001b[0;34m)\u001b[0m\u001b[0;34m\u001b[0m\u001b[0m\n\u001b[0m",
            "\u001b[0;31mTypeError\u001b[0m: meet() missing 1 required positional argument: 'traveller'"
          ]
        }
      ],
      "source": [
        "meet()"
      ]
    },
    {
      "cell_type": "markdown",
      "metadata": {
        "id": "VuiQ4hMtZiqP"
      },
      "source": [
        "Do you see that error message at the bottom there?  It's pretty explicit about saying that this function requires a positional argument named `traveller`.  \n",
        "\n",
        "So, by using an argument, the function signature tells us how to run this function.  We refer to the function by its name and then pass through a string representing the `traveller`."
      ]
    },
    {
      "cell_type": "code",
      "execution_count": null,
      "metadata": {
        "id": "6o8jmnneZiqP",
        "outputId": "ce3dd286-4a30-42fd-de63-a22089d564db"
      },
      "outputs": [
        {
          "data": {
            "text/plain": [
              "\"Hi Sally, I'm so glad we'll be going on the trip together!\""
            ]
          },
          "execution_count": 5,
          "metadata": {},
          "output_type": "execute_result"
        }
      ],
      "source": [
        "meet('sally')"
      ]
    },
    {
      "cell_type": "markdown",
      "metadata": {
        "id": "EQxKAiEmZiqP"
      },
      "source": [
        "> **Note:** Before we move on, it is important to note the difference between an **argument** and a **parameter**. We will see these terms **a lot** going forward and having a clear understanding of them is imperative. An **argument** is the data that we pass to a function before execution (i.e. `'sally'` in the example above). However, a **parameter** is the variable we define in the *function signature* (i.e. `traveller` in the example above). So, these two are very similar, but the difference comes down to whether we are talking about the variable we are using in the function *signature* or the actual data we are using when we *execute* the function later."
      ]
    },
    {
      "cell_type": "markdown",
      "metadata": {
        "id": "b_mhRyfQZiqP"
      },
      "source": [
        "### Flexibility"
      ]
    },
    {
      "cell_type": "markdown",
      "metadata": {
        "id": "4RSY7YktZiqP"
      },
      "source": [
        "Let's take another look at the `meet()` function. Notice, that the argument operates like a variable in that we can easily alter the data that `traveller` points to. When we pass through the string, `'Sally'`, the function replaces `traveller` with the string `'Sally'`.  "
      ]
    },
    {
      "cell_type": "code",
      "execution_count": null,
      "metadata": {
        "id": "oqPxPzQ7ZiqP"
      },
      "outputs": [],
      "source": [
        "def meet(traveller):\n",
        "                              # \"sally\"\n",
        "    welcome_message = \"Hi \" + traveller.title() + \", I'm so glad we'll be going on the trip together!\"\n",
        "    return welcome_message"
      ]
    },
    {
      "cell_type": "markdown",
      "metadata": {
        "id": "jVym0G5HZiqP"
      },
      "source": [
        "And we can easily change what `traveller` points to just by passing through a different string."
      ]
    },
    {
      "cell_type": "code",
      "execution_count": null,
      "metadata": {
        "id": "ohpKKd7nZiqP",
        "outputId": "67ecb580-8c49-4381-9c79-f84902e9e819"
      },
      "outputs": [
        {
          "data": {
            "text/plain": [
              "\"Hi Fred, I'm so glad we'll be going on the trip together!\""
            ]
          },
          "execution_count": 7,
          "metadata": {},
          "output_type": "execute_result"
        }
      ],
      "source": [
        "meet('fred')"
      ]
    },
    {
      "cell_type": "markdown",
      "metadata": {
        "id": "WilEFJZ1ZiqQ"
      },
      "source": [
        "But notice that the `traveller` argument is only accessible just inside of the function."
      ]
    },
    {
      "cell_type": "code",
      "execution_count": null,
      "metadata": {
        "id": "qwhlvWEXZiqQ",
        "outputId": "8bd5ec46-7332-4f5b-9b92-cd27b96c42c9"
      },
      "outputs": [
        {
          "ename": "NameError",
          "evalue": "name 'traveller' is not defined",
          "output_type": "error",
          "traceback": [
            "\u001b[0;31m---------------------------------------------------------------------------\u001b[0m",
            "\u001b[0;31mNameError\u001b[0m                                 Traceback (most recent call last)",
            "\u001b[0;32m<ipython-input-8-12a71905bbfe>\u001b[0m in \u001b[0;36m<module>\u001b[0;34m()\u001b[0m\n\u001b[0;32m----> 1\u001b[0;31m \u001b[0mtraveller\u001b[0m\u001b[0;34m\u001b[0m\u001b[0m\n\u001b[0m",
            "\u001b[0;31mNameError\u001b[0m: name 'traveller' is not defined"
          ]
        }
      ],
      "source": [
        "traveller"
      ]
    },
    {
      "cell_type": "markdown",
      "metadata": {
        "id": "jWPUO2n_ZiqQ"
      },
      "source": [
        "So by using arguments, we can easily see what a function requires to work, change the output by passing through different data to the function, and ensure that we only have to worry about what our argument is while inside that function."
      ]
    },
    {
      "cell_type": "markdown",
      "metadata": {
        "id": "w_XdNtVWZiqQ"
      },
      "source": [
        "Now, we can use functions with arguments to do a lot more than just make some strings more dynamic. Let's say we have a math operation that we need to perform over and over. Let's say, the mean of a list of numbers. We could define a function named `find_the_mean()` that takes in a list and returns a number representing the mean from the list."
      ]
    },
    {
      "cell_type": "code",
      "execution_count": null,
      "metadata": {
        "id": "KmyxwGZ-ZiqQ"
      },
      "outputs": [],
      "source": [
        "def find_the_mean(list_nums):\n",
        "    length = len(list_nums)\n",
        "    total = sum(list_nums)\n",
        "    return total/length"
      ]
    },
    {
      "cell_type": "code",
      "execution_count": null,
      "metadata": {
        "scrolled": true,
        "id": "N_18O84NZiqQ",
        "outputId": "9241dd9d-4b31-4be6-da06-e1ab6ae214de"
      },
      "outputs": [
        {
          "data": {
            "text/plain": [
              "5.5"
            ]
          },
          "execution_count": 10,
          "metadata": {},
          "output_type": "execute_result"
        }
      ],
      "source": [
        "find_the_mean([1, 2, 3, 4, 5, 6, 7, 8, 9, 10])"
      ]
    },
    {
      "cell_type": "markdown",
      "metadata": {
        "id": "1bo9QoMRZiqQ"
      },
      "source": [
        "Now let's imagine we are looking at a list of populations in a given state or region. Perhaps we would even like to get these numbers in order to compare the mean populations of different areas."
      ]
    },
    {
      "cell_type": "code",
      "execution_count": null,
      "metadata": {
        "id": "UvdYAC80ZiqQ",
        "outputId": "f6cbef09-8b8c-46cd-903f-97217246a9da"
      },
      "outputs": [
        {
          "data": {
            "text/plain": [
              "156755.5"
            ]
          },
          "execution_count": 11,
          "metadata": {},
          "output_type": "execute_result"
        }
      ],
      "source": [
        "area_one_pops = [10453, 12383, 8034, 800835, 76434, 32394]\n",
        "find_the_mean(area_one_pops)"
      ]
    },
    {
      "cell_type": "code",
      "execution_count": null,
      "metadata": {
        "id": "63E0zt2_ZiqQ",
        "outputId": "03a400ed-cc84-45a7-e6b5-a018ed6b859c"
      },
      "outputs": [
        {
          "data": {
            "text/plain": [
              "176224.0"
            ]
          },
          "execution_count": 12,
          "metadata": {},
          "output_type": "execute_result"
        }
      ],
      "source": [
        "area_two_pops = [43845, 54930, 59354, 96403, 73492, 729320]\n",
        "find_the_mean(area_two_pops)"
      ]
    },
    {
      "cell_type": "markdown",
      "metadata": {
        "id": "i7GjtyNuZiqR"
      },
      "source": [
        "Great, so, we can *definitely* find the mean from lists of population. What if we would like to return the list that has the largest mean population? We could write a function that takes **2** arguments that are lists and returns the list that has the greatest mean."
      ]
    },
    {
      "cell_type": "code",
      "execution_count": null,
      "metadata": {
        "id": "Ryw-HjUoZiqR"
      },
      "outputs": [],
      "source": [
        "def find_biggest_pop(list_pops_one, list_pops_two):\n",
        "    mean_one = find_the_mean(list_pops_one)\n",
        "    mean_two = find_the_mean(list_pops_two)\n",
        "    if (mean_one > mean_two):\n",
        "        return print(\"The first list,\", list_pops_one ,\" has the larger mean population\")\n",
        "    else:\n",
        "        return print(\"The second list,\", list_pops_two ,\"has the larger mean population\")"
      ]
    },
    {
      "cell_type": "code",
      "execution_count": null,
      "metadata": {
        "id": "H_PA8uWmZiqR",
        "outputId": "e2f50c01-93fb-4838-b5c1-33a7c01c86c5"
      },
      "outputs": [
        {
          "name": "stdout",
          "output_type": "stream",
          "text": [
            "The second list, [10453, 12383, 8034, 800835, 76434, 32394] has the larger mean population\n"
          ]
        }
      ],
      "source": [
        "find_biggest_pop(area_one_pops, area_two_pops)"
      ]
    },
    {
      "cell_type": "markdown",
      "metadata": {
        "id": "-tpJUOEBZiqR"
      },
      "source": [
        "Awesome! Going forward, we will be able to use functions and arguments to write code that is much more reusable and concise to model mathematical and statistical equations.\n",
        "\n",
        "## Summary\n",
        "\n",
        "In this lesson, we saw some of the benefits of using arguments: they make our functions more flexible and predictable.  Our functions are more flexible as the functions vary based on the argument provided to the function.  Arguments make our functions predictable by making functions more explicit about their dependencies. They also allow us to change the value of an argument which only affects the function's internal values and more directly shows us how the output of our function will vary based on different inputs.    "
      ]
    }
  ],
  "metadata": {
    "kernelspec": {
      "display_name": "Python (learn-env)",
      "language": "python",
      "name": "learn-env"
    },
    "language_info": {
      "codemirror_mode": {
        "name": "ipython",
        "version": 3
      },
      "file_extension": ".py",
      "mimetype": "text/x-python",
      "name": "python",
      "nbconvert_exporter": "python",
      "pygments_lexer": "ipython3",
      "version": "3.8.5"
    },
    "colab": {
      "provenance": [],
      "include_colab_link": true
    }
  },
  "nbformat": 4,
  "nbformat_minor": 0
}
