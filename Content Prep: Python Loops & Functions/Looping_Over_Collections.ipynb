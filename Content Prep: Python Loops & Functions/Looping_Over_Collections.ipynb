{
  "cells": [
    {
      "cell_type": "markdown",
      "metadata": {
        "id": "view-in-github",
        "colab_type": "text"
      },
      "source": [
        "<a href=\"https://colab.research.google.com/gist/bpurdy-ds/d2355a4a06b8fc15a75ad0ea60199d75/index.ipynb\" target=\"_parent\"><img src=\"https://colab.research.google.com/assets/colab-badge.svg\" alt=\"Open In Colab\"/></a>"
      ]
    },
    {
      "cell_type": "markdown",
      "metadata": {
        "id": "M6lWDPIeUwYP"
      },
      "source": [
        "# Looping Over Collections\n",
        "\n",
        "## Introduction\n",
        "Loops allow us to iterate over each element in a collection, like a list. Perhaps we could already do that by writing out a line of code for each element in the collection, but that wouldn't be very efficient, would it? No, not at all. With loops, we can write one line of code that operates on each element in a collection. Pretty cool, right? Let's get started!\n",
        "\n",
        "## Objectives\n",
        "\n",
        "You will be able to:\n",
        "\n",
        "- Use a `for` loop to iterate over a collection\n",
        "\n",
        "## What is a for loop and how do I write one?\n",
        "\n",
        "A `for` loop in Python, is primarily used for going through elements of a list one by one. We'll use a simple collection with 4 elements `0,1,2,3` as an example. Without a loop, if we wanted to print each element of the list we'd have to write it out like we do below:"
      ]
    },
    {
      "cell_type": "code",
      "execution_count": null,
      "metadata": {
        "id": "3w5u3uJjUwYR"
      },
      "outputs": [],
      "source": [
        "zero_to_three = [0, 1, 2, 3]"
      ]
    },
    {
      "cell_type": "code",
      "execution_count": null,
      "metadata": {
        "id": "aBLzYr2YUwYS",
        "outputId": "91a53251-a606-4cb0-e089-460c4b4dc510"
      },
      "outputs": [
        {
          "name": "stdout",
          "output_type": "stream",
          "text": [
            "0\n",
            "1\n",
            "2\n",
            "3\n"
          ]
        }
      ],
      "source": [
        "print(zero_to_three[0])\n",
        "print(zero_to_three[1])\n",
        "print(zero_to_three[2])\n",
        "print(zero_to_three[3])"
      ]
    },
    {
      "cell_type": "markdown",
      "metadata": {
        "id": "j0bTAp9mUwYS"
      },
      "source": [
        "> Press shift + enter\n",
        "\n",
        "In the example above, we are sequentially accessing each index in the list and printing its value (the element). That works well enough, but if our list were 100 elements long it would become extremely tedious. And what if the length of our list were ***unknown***. Spooky, right?\n",
        "\n",
        "In fact, it may very often be the case that we don't know the length of the collection we are working with. So, writing all this static code for each element becomes not only unmanageable but impossible.\n",
        "\n",
        "Let's see how we would do the same operation above with a `for` loop!"
      ]
    },
    {
      "cell_type": "code",
      "execution_count": null,
      "metadata": {
        "id": "5Mqfppc3UwYT",
        "outputId": "63260d29-a302-4cf0-b8e7-8de3d2da856a"
      },
      "outputs": [
        {
          "name": "stdout",
          "output_type": "stream",
          "text": [
            "0\n",
            "1\n",
            "2\n",
            "3\n"
          ]
        }
      ],
      "source": [
        "for number in zero_to_three:\n",
        "    print(number)"
      ]
    },
    {
      "cell_type": "markdown",
      "metadata": {
        "id": "MJSDxlK2UwYT"
      },
      "source": [
        "Great! We were able to reproduce the exact same functionality as we had previously. However, in this example, we used only **2** lines of code.\n",
        "\n",
        "Now, the `for` loop may look a bit confusing at first, so, let's take a closer look at the syntax. A `for` loop essentially has two necessary components, which we'll refer to as arguments. The first argument is the variable name we are assigning to an element, or in this case, `number`. The second argument is the collection we are iterating over, or in this case, the list `zero_to_three`.\n",
        "\n",
        "We can give any name to the variable. The important thing to understand here is **it is the reference** to each **element** in the collection. So, when we print `number`, we are printing an element of the collection `zero_to_three`.\n",
        "\n",
        "Every `for` loop needs to end the first line with a colon `:`. This indicates the start of the **block** of code. The block is simply the code that we want executed in each iteration of our loop. So, if all we want to do is print each element, then the line that prints the element is our block. Our block is indicated by indenting. So the first line after the colon `:` should be indented. When we want to end our block, we simply stop indenting. Any code following the `for` loop will only be executed after the `for` loop finishes.\n",
        "\n",
        "> *Remember, the block of code in a `for` loop is executed the same amount of times as there are elements in the collection.*\n",
        "\n",
        "Let's take a look at changing the variable names and adding more code to our example:"
      ]
    },
    {
      "cell_type": "code",
      "execution_count": null,
      "metadata": {
        "id": "4R9o95JAUwYT",
        "outputId": "e5c9d170-6efe-489c-b212-9f4ba9adbcf5"
      },
      "outputs": [
        {
          "name": "stdout",
          "output_type": "stream",
          "text": [
            "This is iteration: 1\n",
            "0\n",
            "This is iteration: 2\n",
            "1\n",
            "This is iteration: 3\n",
            "2\n",
            "This is iteration: 4\n",
            "3\n",
            "The for loop is finished now! I am not in the for loop block, which is why I only printed once!\n"
          ]
        }
      ],
      "source": [
        "iteration_count = 0\n",
        "for whatever_we_want in zero_to_three:\n",
        "    iteration_count += 1\n",
        "    print(\"This is iteration:\", iteration_count)\n",
        "    print(whatever_we_want)\n",
        "print(\"The for loop is finished now! I am not in the for loop block, which is why I only printed once!\")"
      ]
    },
    {
      "cell_type": "markdown",
      "metadata": {
        "id": "6kQDoIgmUwYT"
      },
      "source": [
        "## Using list elements as indices\n",
        "\n",
        "In the examples above, we used the elements in our list to perform an operation, which was printing them. We can also use a list of numbers to access elements from another list. Let's take a look at an example."
      ]
    },
    {
      "cell_type": "code",
      "execution_count": null,
      "metadata": {
        "id": "65pLsNsrUwYT"
      },
      "outputs": [],
      "source": [
        "countries = ['Croatia', 'USA', 'Argentina', 'France', 'Brazil', 'Japan', 'Vietnam']"
      ]
    },
    {
      "cell_type": "code",
      "execution_count": null,
      "metadata": {
        "id": "a77cWp4ZUwYT",
        "outputId": "d02c94e7-394d-4007-a877-c522167fd6b6"
      },
      "outputs": [
        {
          "name": "stdout",
          "output_type": "stream",
          "text": [
            "0\n",
            "Croatia\n",
            "1\n",
            "USA\n",
            "2\n",
            "Argentina\n",
            "3\n",
            "France\n",
            "4\n",
            "Brazil\n",
            "5\n",
            "Japan\n",
            "6\n",
            "Vietnam\n"
          ]
        }
      ],
      "source": [
        "for index in [0,1,2,3,4,5,6]:\n",
        "    print(index)\n",
        "    print(countries[index])"
      ]
    },
    {
      "cell_type": "markdown",
      "metadata": {
        "id": "4do3wX40UwYU"
      },
      "source": [
        "So, in the example above, we are still using the elements in the list of numbers from 0 to 7 in our `for` loop, but we are instead using them to access each element of another list. This example is a bit contrived, but perhaps you have two lists that are ordered correctly and have information like the capital cities in one list and the corresponding countries in another. How would we print both of those out in the same line?"
      ]
    },
    {
      "cell_type": "code",
      "execution_count": null,
      "metadata": {
        "id": "wLieUydNUwYU"
      },
      "outputs": [],
      "source": [
        "countries = ['Croatia', 'USA', 'Argentina', 'France', 'Brazil', 'Japan', 'Vietnam']\n",
        "cities = ['Zagreb', 'District of Columbia', 'Buenos Aires', 'Paris', 'Rio de Janeiro', 'Tokyo', 'Hanoi']"
      ]
    },
    {
      "cell_type": "code",
      "execution_count": null,
      "metadata": {
        "id": "73RX1rM2UwYU",
        "outputId": "5497fe32-652f-42bf-d39b-55fdf4b717d9"
      },
      "outputs": [
        {
          "name": "stdout",
          "output_type": "stream",
          "text": [
            "Zagreb, Croatia\n",
            "District of Columbia, USA\n",
            "Buenos Aires, Argentina\n",
            "Paris, France\n",
            "Rio de Janeiro, Brazil\n",
            "Tokyo, Japan\n",
            "Hanoi, Vietnam\n"
          ]
        }
      ],
      "source": [
        "for index in [0,1,2,3,4,5,6]:\n",
        "    print(cities[index]+\",\", countries[index])"
      ]
    },
    {
      "cell_type": "markdown",
      "metadata": {
        "id": "J-TYeRPFUwYU"
      },
      "source": [
        "Of course, this does not work if our indices do not match up with the size of our list."
      ]
    },
    {
      "cell_type": "code",
      "execution_count": null,
      "metadata": {
        "id": "Wkalz0zzUwYU",
        "outputId": "9bb1be78-693e-4672-fe07-d4deb05755b8"
      },
      "outputs": [
        {
          "name": "stdout",
          "output_type": "stream",
          "text": [
            "Zagreb, Croatia\n",
            "District of Columbia, USA\n",
            "Buenos Aires, Argentina\n",
            "Paris, France\n",
            "Rio de Janeiro, Brazil\n",
            "Tokyo, Japan\n",
            "Hanoi, Vietnam\n"
          ]
        },
        {
          "ename": "IndexError",
          "evalue": "list index out of range",
          "output_type": "error",
          "traceback": [
            "\u001b[0;31m---------------------------------------------------------------------------\u001b[0m",
            "\u001b[0;31mIndexError\u001b[0m                                Traceback (most recent call last)",
            "Cell \u001b[0;32mIn[11], line 2\u001b[0m\n\u001b[1;32m      1\u001b[0m \u001b[38;5;28;01mfor\u001b[39;00m index \u001b[38;5;129;01min\u001b[39;00m [\u001b[38;5;241m0\u001b[39m,\u001b[38;5;241m1\u001b[39m,\u001b[38;5;241m2\u001b[39m,\u001b[38;5;241m3\u001b[39m,\u001b[38;5;241m4\u001b[39m,\u001b[38;5;241m5\u001b[39m,\u001b[38;5;241m6\u001b[39m,\u001b[38;5;241m7\u001b[39m,\u001b[38;5;241m8\u001b[39m,\u001b[38;5;241m9\u001b[39m,\u001b[38;5;241m10\u001b[39m]:\n\u001b[0;32m----> 2\u001b[0m     \u001b[38;5;28mprint\u001b[39m(\u001b[43mcities\u001b[49m\u001b[43m[\u001b[49m\u001b[43mindex\u001b[49m\u001b[43m]\u001b[49m\u001b[38;5;241m+\u001b[39m\u001b[38;5;124m\"\u001b[39m\u001b[38;5;124m,\u001b[39m\u001b[38;5;124m\"\u001b[39m, countries[index])\n",
            "\u001b[0;31mIndexError\u001b[0m: list index out of range"
          ]
        }
      ],
      "source": [
        "for index in [0,1,2,3,4,5,6,7,8,9,10]:\n",
        "    print(cities[index]+\",\", countries[index])"
      ]
    },
    {
      "cell_type": "markdown",
      "metadata": {
        "id": "XcvUOI4VUwYU"
      },
      "source": [
        "So, the preferred way of figuring out the number of iterations on a list when you are unsure of its length would be to use the `len` function to calculate the size of the list."
      ]
    },
    {
      "cell_type": "code",
      "execution_count": null,
      "metadata": {
        "id": "4bf70f8jUwYU",
        "outputId": "df336fe9-0eef-4798-d06e-7d1ea2da70a9"
      },
      "outputs": [
        {
          "data": {
            "text/plain": [
              "7"
            ]
          },
          "execution_count": 12,
          "metadata": {},
          "output_type": "execute_result"
        }
      ],
      "source": [
        "len(countries)"
      ]
    },
    {
      "cell_type": "markdown",
      "metadata": {
        "id": "Ap-P0985UwYU"
      },
      "source": [
        "Then we can turn this length into a successive list of elements in the following way:   "
      ]
    },
    {
      "cell_type": "markdown",
      "metadata": {
        "id": "tPAB8i6GUwYV"
      },
      "source": [
        "First, create a range object:"
      ]
    },
    {
      "cell_type": "code",
      "execution_count": null,
      "metadata": {
        "id": "99vKjOypUwYV",
        "outputId": "ad674e1f-cfe4-47dc-ef8c-522f2be3d8a1"
      },
      "outputs": [
        {
          "data": {
            "text/plain": [
              "range(0, 7)"
            ]
          },
          "execution_count": 13,
          "metadata": {},
          "output_type": "execute_result"
        }
      ],
      "source": [
        "range(0, len(countries))"
      ]
    },
    {
      "cell_type": "markdown",
      "metadata": {
        "id": "lvEvG1xYUwYV"
      },
      "source": [
        "And then convert this into a list:"
      ]
    },
    {
      "cell_type": "code",
      "execution_count": null,
      "metadata": {
        "id": "_yhisaUxUwYV",
        "outputId": "dce9afd0-958b-406b-92ac-be9b85f71ab5"
      },
      "outputs": [
        {
          "data": {
            "text/plain": [
              "[0, 1, 2, 3, 4, 5, 6]"
            ]
          },
          "execution_count": 14,
          "metadata": {},
          "output_type": "execute_result"
        }
      ],
      "source": [
        "list(range(0, len(countries)))"
      ]
    },
    {
      "cell_type": "markdown",
      "metadata": {
        "id": "KiCZhwjKUwYV"
      },
      "source": [
        "Note that the range object is marking the starting and ending point, and excluding the end.  So this works perfectly:"
      ]
    },
    {
      "cell_type": "code",
      "execution_count": null,
      "metadata": {
        "id": "ONfT1XzeUwYV",
        "outputId": "44755a6c-29bc-4287-9162-60ddb64b1170"
      },
      "outputs": [
        {
          "name": "stdout",
          "output_type": "stream",
          "text": [
            "Zagreb, Croatia\n",
            "District of Columbia, USA\n",
            "Buenos Aires, Argentina\n",
            "Paris, France\n",
            "Rio de Janeiro, Brazil\n",
            "Tokyo, Japan\n",
            "Hanoi, Vietnam\n"
          ]
        }
      ],
      "source": [
        "for index in list(range(0, len(countries))):\n",
        "    print(cities[index]+\",\", countries[index])"
      ]
    },
    {
      "cell_type": "markdown",
      "metadata": {
        "id": "PADqkeygUwYV"
      },
      "source": [
        "And as we add or subtract countries, we will still be iterating through our list elements."
      ]
    },
    {
      "cell_type": "code",
      "execution_count": null,
      "metadata": {
        "id": "AKfU_ge8UwYV",
        "outputId": "c4eca816-8ccb-41c7-8ebc-b5aa7958363a"
      },
      "outputs": [
        {
          "name": "stdout",
          "output_type": "stream",
          "text": [
            "Zagreb, Croatia\n",
            "District of Columbia, USA\n",
            "Buenos Aires, Argentina\n",
            "Paris, France\n",
            "Rio de Janeiro, Brazil\n",
            "Tokyo, Japan\n",
            "Hanoi, Vietnam\n",
            "Mexico City, Mexico\n"
          ]
        }
      ],
      "source": [
        "countries.append('Mexico')\n",
        "cities.append('Mexico City')\n",
        "for index in list(range(0, len(countries))):\n",
        "    print(cities[index]+\",\", countries[index])"
      ]
    },
    {
      "cell_type": "markdown",
      "metadata": {
        "id": "kINGix7WUwYV"
      },
      "source": [
        "> Note: More conventionally, these contrived examples would employ the `enumerate()` method, but that is beyond the scope of the current lesson. At some point in the future, examine how this code snippet works:\n",
        "```\n",
        "for idx, item in enumerate(['A', 'B', 'C']):\n",
        "    print(idx, item)\n",
        "```\n",
        "\n",
        "## Iterating through different datatypes\n",
        "\n",
        "So far our loop variable has always been an element of a list that is a number.  However, our loop variable can represent any data type.  For example, let's have the loop variable represent each of the countries directly:"
      ]
    },
    {
      "cell_type": "code",
      "execution_count": null,
      "metadata": {
        "id": "I6RvudnIUwYV",
        "outputId": "c551b473-5b1d-4176-c8a5-d6ee9f7c9a78"
      },
      "outputs": [
        {
          "name": "stdout",
          "output_type": "stream",
          "text": [
            "A String\n",
            "['a', 'list', 'of', 5, ['elements']]\n",
            "{'this': 'is a dictionary'}\n"
          ]
        }
      ],
      "source": [
        "different_elements = ['A String', [\"a\", 'list', \"of\", 5, [\"elements\"]], {'this': \"is a dictionary\"}]\n",
        "for element in different_elements:\n",
        "    print(element)"
      ]
    },
    {
      "cell_type": "markdown",
      "metadata": {
        "id": "n-04QQ65UwYV"
      },
      "source": [
        "Now that we know we can iterate through a list that contains multiple data types, let's explore iterating through a data type that's **not a list**.\n",
        "\n",
        "Another collection we commonly will iterate over is a **dictionary**. Dictionaries differ from lists, on a high level, in that elements are **key, value pairs** instead of one single element. So, when we go through each item in a dictionary, we are actually working with a two-part element (with a key & value). Similarly to how we name a variable for the element in a list for a `for` loop, we name a variable for both the **key** and **value** when we iterate over a dictionary. However, in Python, we can't iterate directly over the dictionary, we iterate over the **items** of a dictionary, which are the key-value pairs.  Let's take a look at an example."
      ]
    },
    {
      "cell_type": "code",
      "execution_count": null,
      "metadata": {
        "id": "QaQdt1ZlUwYV",
        "outputId": "0caec1d0-98af-4ce6-93cd-ae6171faf486"
      },
      "outputs": [
        {
          "name": "stdout",
          "output_type": "stream",
          "text": [
            "dict_items([('first_name', 'Terrance'), ('last_name', 'KOAR'), ('favorite_language', 'Python')])\n"
          ]
        },
        {
          "data": {
            "text/plain": [
              "dict_items"
            ]
          },
          "execution_count": 18,
          "metadata": {},
          "output_type": "execute_result"
        }
      ],
      "source": [
        "example_dictionary = {'first_name': \"Terrance\", 'last_name': \"KOAR\", 'favorite_language': \"Python\"}\n",
        "print(example_dictionary.items())\n",
        "type(example_dictionary.items())"
      ]
    },
    {
      "cell_type": "markdown",
      "metadata": {
        "id": "-C0A_CiLUwYW"
      },
      "source": [
        "Here we can see this **dict_items** object looks almost like a list, but each item has **two** parts, the **key** and **value**. So, in our first iteration, the first **key** will be **first_name**, and the first **value** will be **Terrance**."
      ]
    },
    {
      "cell_type": "code",
      "execution_count": null,
      "metadata": {
        "id": "wXd5syitUwYW",
        "outputId": "dbd3964e-984d-495c-b38a-a24c39c116ac"
      },
      "outputs": [
        {
          "name": "stdout",
          "output_type": "stream",
          "text": [
            "this is the key: first_name\n",
            "this is the value: Terrance \n",
            "\n",
            "this is the key: last_name\n",
            "this is the value: KOAR \n",
            "\n",
            "this is the key: favorite_language\n",
            "this is the value: Python \n",
            "\n"
          ]
        }
      ],
      "source": [
        "for key, value in example_dictionary.items():\n",
        "    print(\"this is the key:\", key)\n",
        "    print(\"this is the value:\", value, \"\\n\")"
      ]
    },
    {
      "cell_type": "markdown",
      "metadata": {
        "id": "Yp46FdYBUwYW"
      },
      "source": [
        "So, we can see that the **dict_items** object groups the key values together in a way that we can iterate over them and access them. We can even use them to inform our program to operate on keys and values in a certain way. Such as, the last name is inexplicably in all caps. Let's look at how we can rectify that and title case the last name when we print out the full name of the `example_dictionary` object."
      ]
    },
    {
      "cell_type": "code",
      "execution_count": null,
      "metadata": {
        "id": "P9la24sbUwYW",
        "outputId": "a6abac58-5ef8-447f-9a48-8286eae6ef15"
      },
      "outputs": [
        {
          "name": "stdout",
          "output_type": "stream",
          "text": [
            "Terrance Koar\n"
          ]
        }
      ],
      "source": [
        "first_name = \"\"\n",
        "last_name = \"\"\n",
        "for key, value in example_dictionary.items():\n",
        "    if key == \"last_name\":\n",
        "        last_name = value.title()\n",
        "    if key == \"first_name\":\n",
        "        first_name = value\n",
        "print(first_name, last_name)"
      ]
    },
    {
      "cell_type": "markdown",
      "metadata": {
        "id": "6myL0UayUwYW"
      },
      "source": [
        "## Conventional Naming Patterns\n",
        "\n",
        "Typically, when we are looping through a collection of things like `countries`, we will name the looping variable, `country`, since that is the singular version of the plural name that represents our list. This is convention and helps to not only remind us, but tell other people looking at our code what that variable is. Let's take a look at a couple examples."
      ]
    },
    {
      "cell_type": "code",
      "execution_count": null,
      "metadata": {
        "id": "lwpRDDXuUwYW",
        "outputId": "29b3658a-8272-4238-f472-b5e3fb82709a"
      },
      "outputs": [
        {
          "name": "stdout",
          "output_type": "stream",
          "text": [
            "Croatia\n",
            "USA\n",
            "Argentina\n",
            "France\n",
            "Brazil\n",
            "Japan\n",
            "Vietnam\n",
            "Mexico\n"
          ]
        }
      ],
      "source": [
        "for country in countries:\n",
        "    print(country)"
      ]
    },
    {
      "cell_type": "code",
      "execution_count": null,
      "metadata": {
        "id": "IVg_MPj6UwYW",
        "outputId": "df1b5d85-31db-4cf8-88fc-40863f9e1402"
      },
      "outputs": [
        {
          "name": "stdout",
          "output_type": "stream",
          "text": [
            "I love Mint Chocolate Chip ice cream!!\n",
            "I love Coffee ice cream!!\n",
            "I love Cookie Dough ice cream!!\n",
            "I love Fudge Mint Brownie ice cream!!\n",
            "I love Vanilla Bean ice cream!!\n"
          ]
        }
      ],
      "source": [
        "ice_cream_flavors = ['Mint Chocolate Chip', 'Coffee', 'Cookie Dough', 'Fudge Mint Brownie', 'Vanilla Bean']\n",
        "for ice_cream_flavor in ice_cream_flavors:\n",
        "    print('I love ' + ice_cream_flavor + ' ice cream!!')"
      ]
    },
    {
      "cell_type": "markdown",
      "metadata": {
        "id": "4F2Z1AJqUwYW"
      },
      "source": [
        "## Summary\n",
        "\n",
        "In this lesson, we learned how to use loops to iterate through a collection of elements. We started with iterating through a list of numbers, and performed the same operation on each number. Then we saw how we can loop through the numbers and have each number be used to access a successive element from a separate list, like `countries`.  We then saw that to ensure our list of numbers matched the indices of our other list, we had to use the expression, `for element in list(range(0, len(list)))`. Finally, we introduced a naming convention that is commonly used when naming the variable for our loops when iterating over a collection that is a list of common elements (i.e. `ice_cream_flavor` for a list of `ice_cream_flavors`)."
      ]
    }
  ],
  "metadata": {
    "kernelspec": {
      "display_name": "Python (learn-env)",
      "language": "python",
      "name": "learn-env"
    },
    "language_info": {
      "codemirror_mode": {
        "name": "ipython",
        "version": 3
      },
      "file_extension": ".py",
      "mimetype": "text/x-python",
      "name": "python",
      "nbconvert_exporter": "python",
      "pygments_lexer": "ipython3",
      "version": "3.9.16"
    },
    "colab": {
      "provenance": [],
      "include_colab_link": true
    }
  },
  "nbformat": 4,
  "nbformat_minor": 0
}
