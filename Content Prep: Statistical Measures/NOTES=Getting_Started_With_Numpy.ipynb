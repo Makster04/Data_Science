{
  "cells": [
    {
      "cell_type": "markdown",
      "metadata": {
        "id": "view-in-github",
        "colab_type": "text"
      },
      "source": [
        "<a href=\"https://colab.research.google.com/gist/bpurdy-ds/e6f3acea49c3bb96b76f647aaf105757/index.ipynb\" target=\"_parent\"><img src=\"https://colab.research.google.com/assets/colab-badge.svg\" alt=\"Open In Colab\"/></a>"
      ]
    },
    {
      "cell_type": "markdown",
      "metadata": {
        "id": "-iQqBPthcDJo"
      },
      "source": [
        "# Getting Started with NumPy\n",
        "\n",
        "## Introduction\n",
        "\n",
        "NumPy is one of the main libraries for performing scientific computing in Python. Using NumPy, you can create high-performance multi-dimensional arrays, and several tools to work with these arrays.\n",
        "\n",
        "A NumPy array can store a grid of values. All the values must be of the same type. NumPy arrays are n-dimensional, and the number of dimensions is denoted by the *rank* of the NumPy array. The shape of an array is a tuple of integers which holds the size of the array along each of the dimensions.\n",
        "\n",
        "For more information on NumPy, refer to http://www.numpy.org/.\n",
        "\n",
        "\n",
        "## Objectives\n",
        "\n",
        "You will be able to:\n",
        "  \n",
        "- Use broadcasting to perform a math operation on an entire numpy array    \n",
        "- Perform vector and matrix operations with numpy\n",
        "- Access the shape of a numpy array    \n",
        "- Use indexing with numpy arrays    \n",
        "\n",
        "\n",
        "\n",
        "\n",
        "## NumPy array creation and basic operations\n",
        "\n",
        "First, remember that it is customary to import NumPy as `np`."
      ]
    },
    {
      "cell_type": "code",
      "execution_count": null,
      "metadata": {
        "id": "VSmn9Xc-cDJq"
      },
      "outputs": [],
      "source": [
        "import numpy as np"
      ]
    },
    {
      "cell_type": "markdown",
      "metadata": {
        "id": "KN_CtiOdcDJr"
      },
      "source": [
        "One easy way to create a numpy array is from a Python list. The two are similar in a number of manners but NumPy is optimized in a number of ways for performing mathematical operations, including having a number of built-in methods that will be extraordinarily useful."
      ]
    },
    {
      "cell_type": "code",
      "execution_count": null,
      "metadata": {
        "id": "jB7592-mcDJr",
        "outputId": "70ce7cba-8cd2-4c83-b8a0-27160c44e3ef"
      },
      "outputs": [
        {
          "name": "stdout",
          "output_type": "stream",
          "text": [
            "<class 'numpy.ndarray'>\n"
          ]
        }
      ],
      "source": [
        "x = np.array([1, 2, 3])\n",
        "print(type(x))"
      ]
    },
    {
      "cell_type": "markdown",
      "metadata": {
        "id": "hKhBvW1McDJs"
      },
      "source": [
        "## Broadcasting Mathematical Operations\n",
        "\n",
        "Notice right off the bat how basic mathematical operations will be applied elementwise in a NumPy array versus a literal interpretation with a Python list:"
      ]
    },
    {
      "cell_type": "code",
      "execution_count": null,
      "metadata": {
        "id": "U--c8B39cDJs",
        "outputId": "5b8d157b-ee80-4296-afaa-0c07c1f4cce6"
      },
      "outputs": [
        {
          "data": {
            "text/plain": [
              "array([3, 6, 9])"
            ]
          },
          "execution_count": 3,
          "metadata": {},
          "output_type": "execute_result"
        }
      ],
      "source": [
        "# Multiplies each element by 3\n",
        "x * 3"
      ]
    },
    {
      "cell_type": "code",
      "execution_count": null,
      "metadata": {
        "id": "DMI8NLgUcDJs",
        "outputId": "401c9f8d-4b9b-4d3f-d1e3-cbac9afd67c5"
      },
      "outputs": [
        {
          "data": {
            "text/plain": [
              "[1, 2, 3, 1, 2, 3, 1, 2, 3]"
            ]
          },
          "execution_count": 4,
          "metadata": {},
          "output_type": "execute_result"
        }
      ],
      "source": [
        "# Returns the list 3 times\n",
        "[1, 2, 3] * 3"
      ]
    },
    {
      "cell_type": "code",
      "execution_count": null,
      "metadata": {
        "id": "1TMAM01OcDJs",
        "outputId": "46218ea5-dd4c-485e-bc75-7f007daa97c2"
      },
      "outputs": [
        {
          "data": {
            "text/plain": [
              "array([3, 4, 5])"
            ]
          },
          "execution_count": 5,
          "metadata": {},
          "output_type": "execute_result"
        }
      ],
      "source": [
        "# Adds two to each element\n",
        "x + 2"
      ]
    },
    {
      "cell_type": "code",
      "execution_count": null,
      "metadata": {
        "id": "FysyURPPcDJs",
        "outputId": "09a36da7-82bf-447b-a164-45cd8ed28030"
      },
      "outputs": [
        {
          "ename": "TypeError",
          "evalue": "can only concatenate list (not \"int\") to list",
          "output_type": "error",
          "traceback": [
            "\u001b[0;31m---------------------------------------------------------------------------\u001b[0m",
            "\u001b[0;31mTypeError\u001b[0m                                 Traceback (most recent call last)",
            "\u001b[0;32m<ipython-input-6-b2ec0299a1e2>\u001b[0m in \u001b[0;36m<module>\u001b[0;34m\u001b[0m\n\u001b[1;32m      1\u001b[0m \u001b[0;31m# Returns an error; different data types\u001b[0m\u001b[0;34m\u001b[0m\u001b[0;34m\u001b[0m\u001b[0;34m\u001b[0m\u001b[0m\n\u001b[0;32m----> 2\u001b[0;31m \u001b[0;34m[\u001b[0m\u001b[0;36m1\u001b[0m\u001b[0;34m,\u001b[0m \u001b[0;36m2\u001b[0m\u001b[0;34m,\u001b[0m \u001b[0;36m3\u001b[0m\u001b[0;34m]\u001b[0m \u001b[0;34m+\u001b[0m \u001b[0;36m2\u001b[0m\u001b[0;34m\u001b[0m\u001b[0;34m\u001b[0m\u001b[0m\n\u001b[0m",
            "\u001b[0;31mTypeError\u001b[0m: can only concatenate list (not \"int\") to list"
          ]
        }
      ],
      "source": [
        "# Returns an error; different data types\n",
        "[1, 2, 3] + 2"
      ]
    },
    {
      "cell_type": "markdown",
      "metadata": {
        "id": "JQvcSU8OcDJt"
      },
      "source": [
        "## Even more math!"
      ]
    },
    {
      "cell_type": "markdown",
      "metadata": {
        "id": "DlCW7UH2cDJt"
      },
      "source": [
        "### Scalar Math\n",
        "\n",
        "|   |   |\n",
        "|---|---|\n",
        "|`np.add(arr,1)` | Add 1 to each array element  |\n",
        "|`np.subtract(arr,2)`  | Subtract 2 from each array element  |\n",
        "|`np.multiply(arr,3)`  | Multiply each array element by 3 |\n",
        "|`np.divide(arr,4)`    | Divide each array element by 4 (returns `np.nan` for division by zero) |\n",
        "|`np.power(arr,5)`     | Raise each array element to the 5th power |\n",
        "\n",
        "\n",
        "\n",
        "\n",
        "### Vector Math\n",
        "\n",
        "|   |   |\n",
        "|---|---|\n",
        "|`np.add(arr1,arr2)` | Elementwise add arr2 to arr1  |\n",
        "|`np.subtract(arr1,arr2)`  | Elementwise subtract arr2 from arr1  |\n",
        "|`np.multiply(arr1,arr2)`  | Elementwise multiply arr1 by arr2 |\n",
        "|`np.divide(arr1,arr2)`    | Elementwise divide arr1 by arr2 |\n",
        "|`np.power(arr1,arr2)`     | Elementwise raise arr1 raised to the power of arr2 |\n",
        "|`np.array_equal(arr1,arr2)`| Returns True if the arrays have the same elements and shape |\n",
        "|`np.sqrt(arr)`            |  Square root of each element in the array                    |\n",
        "|`np.sin(arr)`             |  Sine of each element in the array                           |\n",
        "|`np.log(arr)`             |  Natural log of each element in the array                    |\n",
        "|`np.abs(arr)`             |  Absolute value of each element in the array                 |\n",
        "|`np.ceil(arr)`            |  Rounds up to the nearest int                                |\n",
        "|`np.floor(arr)`           |  Rounds down to the nearest int                              |\n",
        "|`np.round(arr)`           |  Rounds to the nearest int                                   |"
      ]
    },
    {
      "cell_type": "markdown",
      "metadata": {
        "id": "oA-ySe3dcDJt"
      },
      "source": [
        "### Here's a few more examples from the list above"
      ]
    },
    {
      "cell_type": "code",
      "execution_count": null,
      "metadata": {
        "id": "8MGsULUccDJt",
        "outputId": "b1f01d2e-16c9-44cf-aaec-59e142b07493"
      },
      "outputs": [
        {
          "data": {
            "text/plain": [
              "[1, 2, 3, 4, 5, 6]"
            ]
          },
          "execution_count": 7,
          "metadata": {},
          "output_type": "execute_result"
        }
      ],
      "source": [
        "# Adding raw lists is just appending\n",
        "[1, 2, 3] + [4, 5, 6]"
      ]
    },
    {
      "cell_type": "code",
      "execution_count": null,
      "metadata": {
        "id": "50s3cjwccDJt",
        "outputId": "23da998c-75be-40c0-cca1-8dbc30e9bf3f"
      },
      "outputs": [
        {
          "data": {
            "text/plain": [
              "array([5, 7, 9])"
            ]
          },
          "execution_count": 8,
          "metadata": {},
          "output_type": "execute_result"
        }
      ],
      "source": [
        "# Adds elements\n",
        "np.array([1, 2, 3]) + np.array([4, 5, 6])"
      ]
    },
    {
      "cell_type": "code",
      "execution_count": null,
      "metadata": {
        "id": "EEOi3_uJcDJt",
        "outputId": "96d5b629-828f-4886-ba38-cdaf9a8d4f3f"
      },
      "outputs": [
        {
          "data": {
            "text/plain": [
              "array([5, 7, 9])"
            ]
          },
          "execution_count": 9,
          "metadata": {},
          "output_type": "execute_result"
        }
      ],
      "source": [
        "# Same as above with built-in method\n",
        "x = np.array([1, 2, 3])\n",
        "y = np.array([4, 5, 6])\n",
        "np.add(x, y)"
      ]
    },
    {
      "cell_type": "markdown",
      "metadata": {
        "id": "EpX7AE60cDJt"
      },
      "source": [
        "## Multidimensional Arrays\n",
        "NumPy arrays are also very useful for storing multidimensional data such as matrices. Notice how NumPy tries to nicely align the elements."
      ]
    },
    {
      "cell_type": "code",
      "execution_count": null,
      "metadata": {
        "id": "vGbD_Ol-cDJu",
        "outputId": "9ab8a24f-7b67-4752-e373-3ca08fe2996c"
      },
      "outputs": [
        {
          "name": "stdout",
          "output_type": "stream",
          "text": [
            "<class 'list'>\n"
          ]
        },
        {
          "data": {
            "text/plain": [
              "[[1, 2], [3, 4]]"
            ]
          },
          "execution_count": 10,
          "metadata": {},
          "output_type": "execute_result"
        }
      ],
      "source": [
        "# An ordinary nested list\n",
        "y = [[1, 2], [3, 4]]\n",
        "print(type(y))\n",
        "y"
      ]
    },
    {
      "cell_type": "code",
      "execution_count": null,
      "metadata": {
        "id": "1joVG_97cDJu",
        "outputId": "f259967f-4f79-4825-ef7c-2023edd4e1ef"
      },
      "outputs": [
        {
          "name": "stdout",
          "output_type": "stream",
          "text": [
            "<class 'numpy.ndarray'>\n"
          ]
        },
        {
          "data": {
            "text/plain": [
              "array([[1, 2],\n",
              "       [3, 4]])"
            ]
          },
          "execution_count": 11,
          "metadata": {},
          "output_type": "execute_result"
        }
      ],
      "source": [
        "# Reformatted as a NumPy array\n",
        "y = np.array([[1, 2], [3, 4]])\n",
        "print(type(y))\n",
        "y"
      ]
    },
    {
      "cell_type": "markdown",
      "metadata": {
        "id": "AmDRihVfcDJu"
      },
      "source": [
        "## The Shape Attribute\n",
        "One of the most important attributes to understand with this is the shape of a NumPy array."
      ]
    },
    {
      "cell_type": "code",
      "execution_count": null,
      "metadata": {
        "id": "jtGFidPqcDJu",
        "outputId": "ceda8da3-1506-4dd3-f89b-37235334869c"
      },
      "outputs": [
        {
          "data": {
            "text/plain": [
              "(2, 2)"
            ]
          },
          "execution_count": 12,
          "metadata": {},
          "output_type": "execute_result"
        }
      ],
      "source": [
        "y.shape"
      ]
    },
    {
      "cell_type": "code",
      "execution_count": null,
      "metadata": {
        "id": "1KFPg5QEcDJu",
        "outputId": "6051a41f-ce6e-4e2e-cc39-fc70451542b1"
      },
      "outputs": [
        {
          "name": "stdout",
          "output_type": "stream",
          "text": [
            "(2, 3)\n"
          ]
        },
        {
          "data": {
            "text/plain": [
              "array([[1, 2, 3],\n",
              "       [4, 5, 6]])"
            ]
          },
          "execution_count": 13,
          "metadata": {},
          "output_type": "execute_result"
        }
      ],
      "source": [
        "y = np.array([[1, 2, 3],[4, 5, 6]])\n",
        "print(y.shape)\n",
        "y"
      ]
    },
    {
      "cell_type": "code",
      "execution_count": null,
      "metadata": {
        "id": "Nqt9PkJtcDJu",
        "outputId": "fd0559e5-61d8-4105-f96e-d4240fa487f8"
      },
      "outputs": [
        {
          "name": "stdout",
          "output_type": "stream",
          "text": [
            "(3, 2)\n"
          ]
        },
        {
          "data": {
            "text/plain": [
              "array([[1, 2],\n",
              "       [3, 4],\n",
              "       [5, 6]])"
            ]
          },
          "execution_count": 14,
          "metadata": {},
          "output_type": "execute_result"
        }
      ],
      "source": [
        "y = np.array([[1, 2],[3, 4],[5, 6]])\n",
        "print(y.shape)\n",
        "y"
      ]
    },
    {
      "cell_type": "markdown",
      "metadata": {
        "id": "sxhkFufncDJu"
      },
      "source": [
        "### We can also have higher dimensional data such as working with 3 dimensional data\n",
        "<img src=\"https://curriculum-content.s3.amazonaws.com/data-science/images/Image_195_3D array.png\" width=500>"
      ]
    },
    {
      "cell_type": "code",
      "execution_count": null,
      "metadata": {
        "id": "S6ZCwnOicDJu",
        "outputId": "7a4b654d-4b45-48d6-a89b-b0457e57a74b"
      },
      "outputs": [
        {
          "name": "stdout",
          "output_type": "stream",
          "text": [
            "(2, 3, 2)\n"
          ]
        },
        {
          "data": {
            "text/plain": [
              "array([[[1, 2],\n",
              "        [3, 4],\n",
              "        [5, 6]],\n",
              "\n",
              "       [[1, 2],\n",
              "        [3, 4],\n",
              "        [5, 6]]])"
            ]
          },
          "execution_count": 15,
          "metadata": {},
          "output_type": "execute_result"
        }
      ],
      "source": [
        "y = np.array([[[1, 2],[3, 4],[5, 6]],\n",
        "             [[1, 2],[3, 4],[5, 6]]\n",
        "             ])\n",
        "print(y.shape)\n",
        "y"
      ]
    },
    {
      "cell_type": "markdown",
      "metadata": {
        "id": "1x16Nvd6cDJu"
      },
      "source": [
        "## Built-in Methods for Creating Arrays\n",
        "NumPy also has several built-in methods for creating arrays that are useful in practice. These methods are particularly useful:\n",
        "* `np.zeros(shape)`\n",
        "* `np.ones(shape)`\n",
        "* `np.full(shape, fill)`"
      ]
    },
    {
      "cell_type": "code",
      "execution_count": null,
      "metadata": {
        "id": "cSwO-OagcDJu",
        "outputId": "87478fb2-cfc0-4b35-eca9-38209c3ab173"
      },
      "outputs": [
        {
          "data": {
            "text/plain": [
              "array([0., 0., 0., 0., 0.])"
            ]
          },
          "execution_count": 16,
          "metadata": {},
          "output_type": "execute_result"
        }
      ],
      "source": [
        "# One dimensional; 5 elements\n",
        "np.zeros(5)"
      ]
    },
    {
      "cell_type": "code",
      "execution_count": null,
      "metadata": {
        "id": "-Jah_eaDcDJv",
        "outputId": "f3bba6fe-104a-4fde-85d4-bccd96ad2370"
      },
      "outputs": [
        {
          "data": {
            "text/plain": [
              "array([[0., 0.],\n",
              "       [0., 0.]])"
            ]
          },
          "execution_count": 17,
          "metadata": {},
          "output_type": "execute_result"
        }
      ],
      "source": [
        "# Two dimensional; 2x2 matrix\n",
        "np.zeros([2, 2])"
      ]
    },
    {
      "cell_type": "code",
      "execution_count": null,
      "metadata": {
        "id": "-S7rxrshcDJv",
        "outputId": "38135176-e776-4c22-eb16-adbce18bc606"
      },
      "outputs": [
        {
          "data": {
            "text/plain": [
              "array([[0., 0., 0., 0., 0.],\n",
              "       [0., 0., 0., 0., 0.],\n",
              "       [0., 0., 0., 0., 0.]])"
            ]
          },
          "execution_count": 18,
          "metadata": {},
          "output_type": "execute_result"
        }
      ],
      "source": [
        "# 2 dimensional;  3x5 matrix\n",
        "np.zeros([3, 5])"
      ]
    },
    {
      "cell_type": "code",
      "execution_count": null,
      "metadata": {
        "id": "bCuLGKiKcDJv",
        "outputId": "94cf12fc-1820-4bc2-b13a-4200080b607c"
      },
      "outputs": [
        {
          "data": {
            "text/plain": [
              "array([[[0., 0., 0., 0., 0.],\n",
              "        [0., 0., 0., 0., 0.],\n",
              "        [0., 0., 0., 0., 0.],\n",
              "        [0., 0., 0., 0., 0.]],\n",
              "\n",
              "       [[0., 0., 0., 0., 0.],\n",
              "        [0., 0., 0., 0., 0.],\n",
              "        [0., 0., 0., 0., 0.],\n",
              "        [0., 0., 0., 0., 0.]],\n",
              "\n",
              "       [[0., 0., 0., 0., 0.],\n",
              "        [0., 0., 0., 0., 0.],\n",
              "        [0., 0., 0., 0., 0.],\n",
              "        [0., 0., 0., 0., 0.]]])"
            ]
          },
          "execution_count": 19,
          "metadata": {},
          "output_type": "execute_result"
        }
      ],
      "source": [
        "# 3 dimensional; 3 4x5 matrices\n",
        "np.zeros([3, 4, 5])"
      ]
    },
    {
      "cell_type": "markdown",
      "metadata": {
        "id": "Waw-nOkucDJv"
      },
      "source": [
        "### Similarly the `np.ones()` method returns an array of ones"
      ]
    },
    {
      "cell_type": "code",
      "execution_count": null,
      "metadata": {
        "id": "Hxqd6KE2cDJv",
        "outputId": "ca3773d6-1236-4aa9-97cb-c5e699ba82f0"
      },
      "outputs": [
        {
          "data": {
            "text/plain": [
              "array([1., 1., 1., 1., 1.])"
            ]
          },
          "execution_count": 20,
          "metadata": {},
          "output_type": "execute_result"
        }
      ],
      "source": [
        "np.ones(5)"
      ]
    },
    {
      "cell_type": "code",
      "execution_count": null,
      "metadata": {
        "id": "oLKBu4_0cDJv",
        "outputId": "a280e040-3a26-4ac0-e720-badaaef39bf6"
      },
      "outputs": [
        {
          "data": {
            "text/plain": [
              "array([[1., 1., 1., 1.],\n",
              "       [1., 1., 1., 1.],\n",
              "       [1., 1., 1., 1.]])"
            ]
          },
          "execution_count": 21,
          "metadata": {},
          "output_type": "execute_result"
        }
      ],
      "source": [
        "np.ones([3, 4])"
      ]
    },
    {
      "cell_type": "markdown",
      "metadata": {
        "id": "F1X3HyjMcDJv"
      },
      "source": [
        "### The `np.full()` method allows you to create an array of arbitrary values"
      ]
    },
    {
      "cell_type": "code",
      "execution_count": null,
      "metadata": {
        "id": "XsLKYdBfcDJv",
        "outputId": "92e76965-5d6d-4f65-e02e-35f3e411c360"
      },
      "outputs": [
        {
          "data": {
            "text/plain": [
              "array([3, 3, 3, 3, 3])"
            ]
          },
          "execution_count": 22,
          "metadata": {},
          "output_type": "execute_result"
        }
      ],
      "source": [
        "# Create a 1d array with 5 elements, all of which are 3\n",
        "np.full(5, 3)"
      ]
    },
    {
      "cell_type": "code",
      "execution_count": null,
      "metadata": {
        "id": "T0stlKpicDJv",
        "outputId": "ee0124cf-4164-4ce9-c075-ab858d30a26d"
      },
      "outputs": [
        {
          "data": {
            "text/plain": [
              "array([0, 1, 2, 3, 4])"
            ]
          },
          "execution_count": 23,
          "metadata": {},
          "output_type": "execute_result"
        }
      ],
      "source": [
        "# Create a 1d array with 5 elements, filling them with the values 0 to 4\n",
        "np.full(5, range(5))"
      ]
    },
    {
      "cell_type": "code",
      "execution_count": null,
      "metadata": {
        "id": "hCrAcOF-cDJv",
        "outputId": "e50f737b-65ce-45c1-c982-e56134de1089"
      },
      "outputs": [
        {
          "ename": "ValueError",
          "evalue": "could not broadcast input array from shape (10) into shape (2,5)",
          "output_type": "error",
          "traceback": [
            "\u001b[0;31m---------------------------------------------------------------------------\u001b[0m",
            "\u001b[0;31mValueError\u001b[0m                                Traceback (most recent call last)",
            "\u001b[0;32m<ipython-input-24-ea647ac42aad>\u001b[0m in \u001b[0;36m<module>\u001b[0;34m\u001b[0m\n\u001b[1;32m      1\u001b[0m \u001b[0;31m# Sadly this trick won't work for multidimensional arrays\u001b[0m\u001b[0;34m\u001b[0m\u001b[0;34m\u001b[0m\u001b[0;34m\u001b[0m\u001b[0m\n\u001b[0;32m----> 2\u001b[0;31m \u001b[0mnp\u001b[0m\u001b[0;34m.\u001b[0m\u001b[0mfull\u001b[0m\u001b[0;34m(\u001b[0m\u001b[0;34m[\u001b[0m\u001b[0;36m2\u001b[0m\u001b[0;34m,\u001b[0m \u001b[0;36m5\u001b[0m\u001b[0;34m]\u001b[0m\u001b[0;34m,\u001b[0m \u001b[0mrange\u001b[0m\u001b[0;34m(\u001b[0m\u001b[0;36m10\u001b[0m\u001b[0;34m)\u001b[0m\u001b[0;34m)\u001b[0m\u001b[0;34m\u001b[0m\u001b[0;34m\u001b[0m\u001b[0m\n\u001b[0m",
            "\u001b[0;32m//anaconda3/lib/python3.7/site-packages/numpy/core/numeric.py\u001b[0m in \u001b[0;36mfull\u001b[0;34m(shape, fill_value, dtype, order)\u001b[0m\n\u001b[1;32m    334\u001b[0m         \u001b[0mdtype\u001b[0m \u001b[0;34m=\u001b[0m \u001b[0marray\u001b[0m\u001b[0;34m(\u001b[0m\u001b[0mfill_value\u001b[0m\u001b[0;34m)\u001b[0m\u001b[0;34m.\u001b[0m\u001b[0mdtype\u001b[0m\u001b[0;34m\u001b[0m\u001b[0;34m\u001b[0m\u001b[0m\n\u001b[1;32m    335\u001b[0m     \u001b[0ma\u001b[0m \u001b[0;34m=\u001b[0m \u001b[0mempty\u001b[0m\u001b[0;34m(\u001b[0m\u001b[0mshape\u001b[0m\u001b[0;34m,\u001b[0m \u001b[0mdtype\u001b[0m\u001b[0;34m,\u001b[0m \u001b[0morder\u001b[0m\u001b[0;34m)\u001b[0m\u001b[0;34m\u001b[0m\u001b[0;34m\u001b[0m\u001b[0m\n\u001b[0;32m--> 336\u001b[0;31m     \u001b[0mmultiarray\u001b[0m\u001b[0;34m.\u001b[0m\u001b[0mcopyto\u001b[0m\u001b[0;34m(\u001b[0m\u001b[0ma\u001b[0m\u001b[0;34m,\u001b[0m \u001b[0mfill_value\u001b[0m\u001b[0;34m,\u001b[0m \u001b[0mcasting\u001b[0m\u001b[0;34m=\u001b[0m\u001b[0;34m'unsafe'\u001b[0m\u001b[0;34m)\u001b[0m\u001b[0;34m\u001b[0m\u001b[0;34m\u001b[0m\u001b[0m\n\u001b[0m\u001b[1;32m    337\u001b[0m     \u001b[0;32mreturn\u001b[0m \u001b[0ma\u001b[0m\u001b[0;34m\u001b[0m\u001b[0;34m\u001b[0m\u001b[0m\n\u001b[1;32m    338\u001b[0m \u001b[0;34m\u001b[0m\u001b[0m\n",
            "\u001b[0;31mValueError\u001b[0m: could not broadcast input array from shape (10) into shape (2,5)"
          ]
        }
      ],
      "source": [
        "# Sadly this trick won't work for multidimensional arrays\n",
        "np.full([2, 5], range(10))"
      ]
    },
    {
      "cell_type": "code",
      "execution_count": null,
      "metadata": {
        "id": "aoAMsPLFcDJv",
        "outputId": "f51ef547-8d20-44fa-a0ce-07859e1a16c0"
      },
      "outputs": [
        {
          "data": {
            "text/plain": [
              "array([[3.14159265, 3.14159265, 3.14159265, 3.14159265, 3.14159265],\n",
              "       [3.14159265, 3.14159265, 3.14159265, 3.14159265, 3.14159265]])"
            ]
          },
          "execution_count": 25,
          "metadata": {},
          "output_type": "execute_result"
        }
      ],
      "source": [
        "# NumPy also has useful built-in mathematical numbers\n",
        "np.full([2, 5], np.pi)"
      ]
    },
    {
      "cell_type": "markdown",
      "metadata": {
        "id": "IPg608qvcDJv"
      },
      "source": [
        "## Numpy array subsetting"
      ]
    },
    {
      "cell_type": "markdown",
      "metadata": {
        "id": "mWV_9LuicDJv"
      },
      "source": [
        "You can subset NumPy arrays very similarly to list slicing in python."
      ]
    },
    {
      "cell_type": "code",
      "execution_count": null,
      "metadata": {
        "id": "7uZFdafJcDJ5",
        "outputId": "7ed47b5c-886d-40df-a26b-94c767a852fa"
      },
      "outputs": [
        {
          "name": "stdout",
          "output_type": "stream",
          "text": [
            "(4, 3)\n"
          ]
        },
        {
          "data": {
            "text/plain": [
              "array([[ 1,  2,  3],\n",
              "       [ 4,  5,  6],\n",
              "       [ 7,  8,  9],\n",
              "       [10, 11, 12]])"
            ]
          },
          "execution_count": 26,
          "metadata": {},
          "output_type": "execute_result"
        }
      ],
      "source": [
        "x = np.array([[1, 2, 3], [4, 5, 6], [7, 8, 9], [10, 11, 12]])\n",
        "print(x.shape)\n",
        "x"
      ]
    },
    {
      "cell_type": "code",
      "execution_count": null,
      "metadata": {
        "id": "3VSsSCW3cDJ5",
        "outputId": "cb562e9c-9c84-4ebf-f6eb-571d50387f51"
      },
      "outputs": [
        {
          "data": {
            "text/plain": [
              "array([1, 2, 3])"
            ]
          },
          "execution_count": 27,
          "metadata": {},
          "output_type": "execute_result"
        }
      ],
      "source": [
        "# Retrieving the first row\n",
        "x[0]"
      ]
    },
    {
      "cell_type": "code",
      "execution_count": null,
      "metadata": {
        "id": "jSrZiBQQcDJ5",
        "outputId": "a31f634e-115f-4b0d-8bb2-2d55e4bb2c3c"
      },
      "outputs": [
        {
          "data": {
            "text/plain": [
              "array([[ 4,  5,  6],\n",
              "       [ 7,  8,  9],\n",
              "       [10, 11, 12]])"
            ]
          },
          "execution_count": 28,
          "metadata": {},
          "output_type": "execute_result"
        }
      ],
      "source": [
        "# Retrieving all rows after the first row\n",
        "x[1:]"
      ]
    },
    {
      "cell_type": "markdown",
      "metadata": {
        "id": "ZK5i-vf0cDJ5"
      },
      "source": [
        "### This becomes particularly useful in multidimensional arrays when we can slice on multiple dimensions"
      ]
    },
    {
      "cell_type": "code",
      "execution_count": null,
      "metadata": {
        "id": "oqpsDE18cDJ5",
        "outputId": "e4bd95b3-7a08-4e0b-f7c5-f4347291d9af"
      },
      "outputs": [
        {
          "data": {
            "text/plain": [
              "array([ 1,  4,  7, 10])"
            ]
          },
          "execution_count": 29,
          "metadata": {},
          "output_type": "execute_result"
        }
      ],
      "source": [
        "# All rows, column 0\n",
        "x[:,0]"
      ]
    },
    {
      "cell_type": "code",
      "execution_count": null,
      "metadata": {
        "id": "I_3vG4OycDJ5",
        "outputId": "0c028023-bcb4-4c95-a930-91d1e3c4de43"
      },
      "outputs": [
        {
          "data": {
            "text/plain": [
              "array([[ 8,  9],\n",
              "       [11, 12]])"
            ]
          },
          "execution_count": 30,
          "metadata": {},
          "output_type": "execute_result"
        }
      ],
      "source": [
        "# Rows 2 through 4, columns 1 through 3\n",
        "x[2:4,1:3]"
      ]
    },
    {
      "cell_type": "markdown",
      "metadata": {
        "id": "dnhiKnKMcDJ5"
      },
      "source": [
        "### Notice that you can't slice in multiple dimensions naturally with built-in lists"
      ]
    },
    {
      "cell_type": "code",
      "execution_count": null,
      "metadata": {
        "id": "eHf_agTncDJ5",
        "outputId": "38c64e56-13d1-4086-b20e-29884c2d4e5f"
      },
      "outputs": [
        {
          "data": {
            "text/plain": [
              "[[1, 2, 3], [4, 5, 6], [7, 8, 9], [10, 11, 12]]"
            ]
          },
          "execution_count": 31,
          "metadata": {},
          "output_type": "execute_result"
        }
      ],
      "source": [
        "x = [[1, 2, 3], [4, 5, 6], [7, 8, 9], [10, 11, 12]]\n",
        "x"
      ]
    },
    {
      "cell_type": "code",
      "execution_count": null,
      "metadata": {
        "id": "MAUGBLw7cDJ5",
        "outputId": "1cbb79a3-1360-469d-e241-b124b9ce2e3a"
      },
      "outputs": [
        {
          "data": {
            "text/plain": [
              "[1, 2, 3]"
            ]
          },
          "execution_count": 32,
          "metadata": {},
          "output_type": "execute_result"
        }
      ],
      "source": [
        "x[0]"
      ]
    },
    {
      "cell_type": "code",
      "execution_count": null,
      "metadata": {
        "id": "bQ9HeqB3cDJ5",
        "outputId": "048da758-874d-4fcc-98b5-852f995c280f"
      },
      "outputs": [
        {
          "ename": "TypeError",
          "evalue": "list indices must be integers or slices, not tuple",
          "output_type": "error",
          "traceback": [
            "\u001b[0;31m---------------------------------------------------------------------------\u001b[0m",
            "\u001b[0;31mTypeError\u001b[0m                                 Traceback (most recent call last)",
            "\u001b[0;32m<ipython-input-33-879a04ce8a40>\u001b[0m in \u001b[0;36m<module>\u001b[0;34m\u001b[0m\n\u001b[0;32m----> 1\u001b[0;31m \u001b[0mx\u001b[0m\u001b[0;34m[\u001b[0m\u001b[0;34m:\u001b[0m\u001b[0;34m,\u001b[0m\u001b[0;36m0\u001b[0m\u001b[0;34m]\u001b[0m\u001b[0;34m\u001b[0m\u001b[0;34m\u001b[0m\u001b[0m\n\u001b[0m",
            "\u001b[0;31mTypeError\u001b[0m: list indices must be integers or slices, not tuple"
          ]
        }
      ],
      "source": [
        "x[:,0]"
      ]
    },
    {
      "cell_type": "code",
      "execution_count": null,
      "metadata": {
        "id": "Ed_t32oEcDJ5",
        "outputId": "75a30976-21c6-4820-b2d8-66425cd4c8ca"
      },
      "outputs": [
        {
          "data": {
            "text/plain": [
              "[1, 4, 7, 10]"
            ]
          },
          "execution_count": 34,
          "metadata": {},
          "output_type": "execute_result"
        }
      ],
      "source": [
        "# To slice along a second dimension with lists we must verbosely use a list comprehension\n",
        "[i[0] for i in x]"
      ]
    },
    {
      "cell_type": "code",
      "execution_count": null,
      "metadata": {
        "id": "8zskLmdmcDJ5",
        "outputId": "630bf293-3d83-4a9e-fb67-596e236d29b3"
      },
      "outputs": [
        {
          "data": {
            "text/plain": [
              "[[8, 9], [11, 12]]"
            ]
          },
          "execution_count": 35,
          "metadata": {},
          "output_type": "execute_result"
        }
      ],
      "source": [
        "# Doing this in multiple dimensions with lists\n",
        "[i[1:3] for i in x[2:4]]"
      ]
    },
    {
      "cell_type": "markdown",
      "metadata": {
        "id": "v_PkJI_ocDJ5"
      },
      "source": [
        "### 3D Slicing"
      ]
    },
    {
      "cell_type": "code",
      "execution_count": null,
      "metadata": {
        "id": "0GNinPlGcDJ5",
        "outputId": "490a6343-dbc3-461a-ad1e-df98f7740ac3"
      },
      "outputs": [
        {
          "data": {
            "text/plain": [
              "array([[[ 1,  2,  3],\n",
              "        [ 4,  5,  6]],\n",
              "\n",
              "       [[ 7,  8,  9],\n",
              "        [10, 11, 12]]])"
            ]
          },
          "execution_count": 36,
          "metadata": {},
          "output_type": "execute_result"
        }
      ],
      "source": [
        "# With an array\n",
        "x = np.array([\n",
        "              [[1,2,3], [4,5,6]],\n",
        "              [[7,8,9], [10,11,12]]\n",
        "             ])\n",
        "x"
      ]
    },
    {
      "cell_type": "code",
      "execution_count": null,
      "metadata": {
        "id": "xo4kltUIcDJ6",
        "outputId": "ffb67f7a-1d9f-4fc8-9d61-fa39c0804c6e"
      },
      "outputs": [
        {
          "data": {
            "text/plain": [
              "(2, 2, 3)"
            ]
          },
          "execution_count": 37,
          "metadata": {},
          "output_type": "execute_result"
        }
      ],
      "source": [
        "x.shape"
      ]
    },
    {
      "cell_type": "code",
      "execution_count": null,
      "metadata": {
        "id": "l3_cfsZEcDJ6",
        "outputId": "b4e0ac0d-de05-4dea-dc2f-fdc2ef2a985d"
      },
      "outputs": [
        {
          "data": {
            "text/plain": [
              "array([[ 3,  6],\n",
              "       [ 9, 12]])"
            ]
          },
          "execution_count": 38,
          "metadata": {},
          "output_type": "execute_result"
        }
      ],
      "source": [
        "x[:,:,-1]"
      ]
    },
    {
      "cell_type": "markdown",
      "metadata": {
        "id": "RkmLwxR_cDJ6"
      },
      "source": [
        "## Summary\n",
        "\n",
        "Great! You learned about a bunch of NumPy commands. Now, let's move over to the lab to put your new skills into practice!"
      ]
    }
  ],
  "metadata": {
    "kernelspec": {
      "display_name": "Python 3",
      "language": "python",
      "name": "python3"
    },
    "language_info": {
      "codemirror_mode": {
        "name": "ipython",
        "version": 3
      },
      "file_extension": ".py",
      "mimetype": "text/x-python",
      "name": "python",
      "nbconvert_exporter": "python",
      "pygments_lexer": "ipython3",
      "version": "3.7.3"
    },
    "colab": {
      "provenance": [],
      "include_colab_link": true
    }
  },
  "nbformat": 4,
  "nbformat_minor": 0
}
